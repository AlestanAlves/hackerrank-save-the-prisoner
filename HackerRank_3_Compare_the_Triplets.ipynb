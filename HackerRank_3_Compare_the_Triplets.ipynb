{
  "nbformat": 4,
  "nbformat_minor": 0,
  "metadata": {
    "colab": {
      "name": "HackerRank_3_Compare-the-Triplets",
      "provenance": [],
      "include_colab_link": true
    },
    "kernelspec": {
      "name": "python3",
      "display_name": "Python 3"
    }
  },
  "cells": [
    {
      "cell_type": "markdown",
      "metadata": {
        "id": "view-in-github",
        "colab_type": "text"
      },
      "source": [
        "<a href=\"https://colab.research.google.com/github/AlestanAlves/hackerrank-save-the-prisoner/blob/master/HackerRank_3_Compare_the_Triplets.ipynb\" target=\"_parent\"><img src=\"https://colab.research.google.com/assets/colab-badge.svg\" alt=\"Open In Colab\"/></a>"
      ]
    },
    {
      "cell_type": "code",
      "metadata": {
        "id": "hi602k-QVZ7R",
        "colab_type": "code",
        "colab": {
          "base_uri": "https://localhost:8080/",
          "height": 34
        },
        "outputId": "6773b8bf-4c54-4e03-c8aa-22283d497a83"
      },
      "source": [
        "import numpy as np\n",
        "np.array ([3,2,1]) > np.array([1,2,3])"
      ],
      "execution_count": 2,
      "outputs": [
        {
          "output_type": "execute_result",
          "data": {
            "text/plain": [
              "array([ True, False, False])"
            ]
          },
          "metadata": {
            "tags": []
          },
          "execution_count": 2
        }
      ]
    },
    {
      "cell_type": "code",
      "metadata": {
        "id": "MbnNf29VWVUt",
        "colab_type": "code",
        "colab": {
          "base_uri": "https://localhost:8080/",
          "height": 34
        },
        "outputId": "31a77746-d8ef-41a9-8033-a08d3dfc25f8"
      },
      "source": [
        "import numpy as np\n",
        "a = [3,2,1]\n",
        "b = [1,2,3]\n",
        "alice = np.array (a) > np.array(b)\n",
        "bob = np.array (a) < np.array(b)\n",
        "sum(alice), sum(bob)\n"
      ],
      "execution_count": 4,
      "outputs": [
        {
          "output_type": "execute_result",
          "data": {
            "text/plain": [
              "(1, 1)"
            ]
          },
          "metadata": {
            "tags": []
          },
          "execution_count": 4
        }
      ]
    },
    {
      "cell_type": "code",
      "metadata": {
        "id": "iCzJsXjlXB3t",
        "colab_type": "code",
        "colab": {
          "base_uri": "https://localhost:8080/",
          "height": 34
        },
        "outputId": "d5daf699-8ceb-48ae-8ea7-98b5d5a092d6"
      },
      "source": [
        "alice = 0\n",
        "bob = 0\n",
        "\n",
        "for i in range (0,3):\n",
        "  if a[i] > b [i]:\n",
        "    alice +=1\n",
        "  if a[i] < b [i]:\n",
        "    bob +=1\n",
        "return alice, bob"
      ],
      "execution_count": 7,
      "outputs": [
        {
          "output_type": "execute_result",
          "data": {
            "text/plain": [
              "(1, 1)"
            ]
          },
          "metadata": {
            "tags": []
          },
          "execution_count": 7
        }
      ]
    },
    {
      "cell_type": "code",
      "metadata": {
        "id": "Y06H5muoXus_",
        "colab_type": "code",
        "colab": {}
      },
      "source": [
        ""
      ],
      "execution_count": 0,
      "outputs": []
    }
  ]
}