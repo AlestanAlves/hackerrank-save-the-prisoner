{
  "nbformat": 4,
  "nbformat_minor": 0,
  "metadata": {
    "colab": {
      "name": "hacker rank",
      "provenance": [],
      "include_colab_link": true
    },
    "kernelspec": {
      "name": "python3",
      "display_name": "Python 3"
    }
  },
  "cells": [
    {
      "cell_type": "markdown",
      "metadata": {
        "id": "view-in-github",
        "colab_type": "text"
      },
      "source": [
        "<a href=\"https://colab.research.google.com/github/AlestanAlves/hackerrank-save-the-prisoner/blob/master/hacker_rank.ipynb\" target=\"_parent\"><img src=\"https://colab.research.google.com/assets/colab-badge.svg\" alt=\"Open In Colab\"/></a>"
      ]
    },
    {
      "cell_type": "code",
      "metadata": {
        "id": "UXfahilkffub",
        "colab_type": "code",
        "outputId": "c57586b0-c757-42d1-8a76-45726a03734e",
        "colab": {
          "base_uri": "https://localhost:8080/",
          "height": 34
        }
      },
      "source": [
        "def saveThePrisoner(cadeiras, docinhos, inicia):\n",
        "  sobra = docinhos % cadeiras\n",
        "  if sobra == 0 and inicia  == 1:\n",
        "    return cadeiras\n",
        "  pessoas = (inicia + sobra - 1) % cadeiras\n",
        "  if pessoas == 0:\n",
        "    return cadeiras\n",
        "  return pessoas\n",
        "\n",
        "saveThePrisoner(4, 3, 3)"
      ],
      "execution_count": 25,
      "outputs": [
        {
          "output_type": "execute_result",
          "data": {
            "text/plain": [
              "1"
            ]
          },
          "metadata": {
            "tags": []
          },
          "execution_count": 25
        }
      ]
    },
    {
      "cell_type": "code",
      "metadata": {
        "id": "TQwsPgw1f4a6",
        "colab_type": "code",
        "colab": {}
      },
      "source": [
        ""
      ],
      "execution_count": 0,
      "outputs": []
    }
  ]
}